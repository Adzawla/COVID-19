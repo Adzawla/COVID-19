{
  "nbformat": 4,
  "nbformat_minor": 0,
  "metadata": {
    "colab": {
      "name": "playing_with_pandas.ipynb",
      "provenance": [],
      "collapsed_sections": [],
      "authorship_tag": "ABX9TyPCgRBybgz04ppPP/Q8k3W1",
      "include_colab_link": true
    },
    "kernelspec": {
      "name": "python3",
      "display_name": "Python 3"
    }
  },
  "cells": [
    {
      "cell_type": "markdown",
      "metadata": {
        "id": "view-in-github",
        "colab_type": "text"
      },
      "source": [
        "<a href=\"https://colab.research.google.com/github/Adzawla/COVID-19/blob/master/playing_with_pandas.ipynb\" target=\"_parent\"><img src=\"https://colab.research.google.com/assets/colab-badge.svg\" alt=\"Open In Colab\"/></a>"
      ]
    },
    {
      "cell_type": "code",
      "metadata": {
        "id": "y8Sfw-w8L5Fm"
      },
      "source": [
        "import pandas as pd\r\n",
        "import numpy as np\r\n",
        "import matplotlib.pyplot as plt"
      ],
      "execution_count": 1,
      "outputs": []
    },
    {
      "cell_type": "code",
      "metadata": {
        "id": "0chDJ_brMQ-u"
      },
      "source": [
        "# Loading the dataset\r\n",
        "df=pd.read_csv(\"3.5 market_fact.csv\")"
      ],
      "execution_count": 4,
      "outputs": []
    },
    {
      "cell_type": "markdown",
      "metadata": {
        "id": "ZFU9yW--NNgN"
      },
      "source": [
        "Let's understand the data by checking the structure, the number rows and columns of our dataset"
      ]
    },
    {
      "cell_type": "code",
      "metadata": {
        "colab": {
          "base_uri": "https://localhost:8080/",
          "height": 218
        },
        "id": "rVrWer2nNXE5",
        "outputId": "6dd09703-9ab9-4b15-8d25-6f9ab24caaee"
      },
      "source": [
        "df.head()"
      ],
      "execution_count": 5,
      "outputs": [
        {
          "output_type": "execute_result",
          "data": {
            "text/html": [
              "<div>\n",
              "<style scoped>\n",
              "    .dataframe tbody tr th:only-of-type {\n",
              "        vertical-align: middle;\n",
              "    }\n",
              "\n",
              "    .dataframe tbody tr th {\n",
              "        vertical-align: top;\n",
              "    }\n",
              "\n",
              "    .dataframe thead th {\n",
              "        text-align: right;\n",
              "    }\n",
              "</style>\n",
              "<table border=\"1\" class=\"dataframe\">\n",
              "  <thead>\n",
              "    <tr style=\"text-align: right;\">\n",
              "      <th></th>\n",
              "      <th>Ord_id</th>\n",
              "      <th>Prod_id</th>\n",
              "      <th>Ship_id</th>\n",
              "      <th>Cust_id</th>\n",
              "      <th>Sales</th>\n",
              "      <th>Discount</th>\n",
              "      <th>Order_Quantity</th>\n",
              "      <th>Profit</th>\n",
              "      <th>Shipping_Cost</th>\n",
              "      <th>Product_Base_Margin</th>\n",
              "    </tr>\n",
              "  </thead>\n",
              "  <tbody>\n",
              "    <tr>\n",
              "      <th>0</th>\n",
              "      <td>Ord_5446</td>\n",
              "      <td>Prod_16</td>\n",
              "      <td>SHP_7609</td>\n",
              "      <td>Cust_1818</td>\n",
              "      <td>136.81</td>\n",
              "      <td>0.01</td>\n",
              "      <td>23</td>\n",
              "      <td>-30.51</td>\n",
              "      <td>3.60</td>\n",
              "      <td>0.56</td>\n",
              "    </tr>\n",
              "    <tr>\n",
              "      <th>1</th>\n",
              "      <td>Ord_5406</td>\n",
              "      <td>Prod_13</td>\n",
              "      <td>SHP_7549</td>\n",
              "      <td>Cust_1818</td>\n",
              "      <td>42.27</td>\n",
              "      <td>0.01</td>\n",
              "      <td>13</td>\n",
              "      <td>4.56</td>\n",
              "      <td>0.93</td>\n",
              "      <td>0.54</td>\n",
              "    </tr>\n",
              "    <tr>\n",
              "      <th>2</th>\n",
              "      <td>Ord_5446</td>\n",
              "      <td>Prod_4</td>\n",
              "      <td>SHP_7610</td>\n",
              "      <td>Cust_1818</td>\n",
              "      <td>4701.69</td>\n",
              "      <td>0.00</td>\n",
              "      <td>26</td>\n",
              "      <td>1148.90</td>\n",
              "      <td>2.50</td>\n",
              "      <td>0.59</td>\n",
              "    </tr>\n",
              "    <tr>\n",
              "      <th>3</th>\n",
              "      <td>Ord_5456</td>\n",
              "      <td>Prod_6</td>\n",
              "      <td>SHP_7625</td>\n",
              "      <td>Cust_1818</td>\n",
              "      <td>2337.89</td>\n",
              "      <td>0.09</td>\n",
              "      <td>43</td>\n",
              "      <td>729.34</td>\n",
              "      <td>14.30</td>\n",
              "      <td>0.37</td>\n",
              "    </tr>\n",
              "    <tr>\n",
              "      <th>4</th>\n",
              "      <td>Ord_5485</td>\n",
              "      <td>Prod_17</td>\n",
              "      <td>SHP_7664</td>\n",
              "      <td>Cust_1818</td>\n",
              "      <td>4233.15</td>\n",
              "      <td>0.08</td>\n",
              "      <td>35</td>\n",
              "      <td>1219.87</td>\n",
              "      <td>26.30</td>\n",
              "      <td>0.38</td>\n",
              "    </tr>\n",
              "  </tbody>\n",
              "</table>\n",
              "</div>"
            ],
            "text/plain": [
              "     Ord_id  Prod_id   Ship_id  ...   Profit  Shipping_Cost  Product_Base_Margin\n",
              "0  Ord_5446  Prod_16  SHP_7609  ...   -30.51           3.60                 0.56\n",
              "1  Ord_5406  Prod_13  SHP_7549  ...     4.56           0.93                 0.54\n",
              "2  Ord_5446   Prod_4  SHP_7610  ...  1148.90           2.50                 0.59\n",
              "3  Ord_5456   Prod_6  SHP_7625  ...   729.34          14.30                 0.37\n",
              "4  Ord_5485  Prod_17  SHP_7664  ...  1219.87          26.30                 0.38\n",
              "\n",
              "[5 rows x 10 columns]"
            ]
          },
          "metadata": {
            "tags": []
          },
          "execution_count": 5
        }
      ]
    },
    {
      "cell_type": "markdown",
      "metadata": {
        "id": "Fh5MWMKdOQdo"
      },
      "source": [
        "Let's check the data types of each variable (columns) in the dataset"
      ]
    },
    {
      "cell_type": "code",
      "metadata": {
        "colab": {
          "base_uri": "https://localhost:8080/"
        },
        "id": "mrvFUSzlOeKu",
        "outputId": "334dae0c-5be7-45ae-85cf-96a3c2f74d35"
      },
      "source": [
        "df.info()"
      ],
      "execution_count": 8,
      "outputs": [
        {
          "output_type": "stream",
          "text": [
            "<class 'pandas.core.frame.DataFrame'>\n",
            "RangeIndex: 8399 entries, 0 to 8398\n",
            "Data columns (total 10 columns):\n",
            " #   Column               Non-Null Count  Dtype  \n",
            "---  ------               --------------  -----  \n",
            " 0   Ord_id               8399 non-null   object \n",
            " 1   Prod_id              8399 non-null   object \n",
            " 2   Ship_id              8399 non-null   object \n",
            " 3   Cust_id              8399 non-null   object \n",
            " 4   Sales                8399 non-null   float64\n",
            " 5   Discount             8399 non-null   float64\n",
            " 6   Order_Quantity       8399 non-null   int64  \n",
            " 7   Profit               8399 non-null   float64\n",
            " 8   Shipping_Cost        8399 non-null   float64\n",
            " 9   Product_Base_Margin  8336 non-null   float64\n",
            "dtypes: float64(5), int64(1), object(4)\n",
            "memory usage: 656.3+ KB\n"
          ],
          "name": "stdout"
        }
      ]
    },
    {
      "cell_type": "markdown",
      "metadata": {
        "id": "u35t2hYMP7YB"
      },
      "source": [
        "- Object corresponds to character\r\n",
        "\r\n",
        "- float64 corresponds to number\r\n",
        "\r\n",
        "- float64 corresponds to number\r\n"
      ]
    },
    {
      "cell_type": "code",
      "metadata": {
        "colab": {
          "base_uri": "https://localhost:8080/",
          "height": 288
        },
        "id": "boV6mMkbRynW",
        "outputId": "1ae02424-1d8c-4e31-f79c-12ca1ac3461d"
      },
      "source": [
        "df.describe()"
      ],
      "execution_count": 11,
      "outputs": [
        {
          "output_type": "execute_result",
          "data": {
            "text/html": [
              "<div>\n",
              "<style scoped>\n",
              "    .dataframe tbody tr th:only-of-type {\n",
              "        vertical-align: middle;\n",
              "    }\n",
              "\n",
              "    .dataframe tbody tr th {\n",
              "        vertical-align: top;\n",
              "    }\n",
              "\n",
              "    .dataframe thead th {\n",
              "        text-align: right;\n",
              "    }\n",
              "</style>\n",
              "<table border=\"1\" class=\"dataframe\">\n",
              "  <thead>\n",
              "    <tr style=\"text-align: right;\">\n",
              "      <th></th>\n",
              "      <th>Sales</th>\n",
              "      <th>Discount</th>\n",
              "      <th>Order_Quantity</th>\n",
              "      <th>Profit</th>\n",
              "      <th>Shipping_Cost</th>\n",
              "      <th>Product_Base_Margin</th>\n",
              "    </tr>\n",
              "  </thead>\n",
              "  <tbody>\n",
              "    <tr>\n",
              "      <th>count</th>\n",
              "      <td>8399.000000</td>\n",
              "      <td>8399.000000</td>\n",
              "      <td>8399.000000</td>\n",
              "      <td>8399.000000</td>\n",
              "      <td>8399.000000</td>\n",
              "      <td>8336.000000</td>\n",
              "    </tr>\n",
              "    <tr>\n",
              "      <th>mean</th>\n",
              "      <td>1775.878179</td>\n",
              "      <td>0.049671</td>\n",
              "      <td>25.571735</td>\n",
              "      <td>181.184424</td>\n",
              "      <td>12.838557</td>\n",
              "      <td>0.512513</td>\n",
              "    </tr>\n",
              "    <tr>\n",
              "      <th>std</th>\n",
              "      <td>3585.050525</td>\n",
              "      <td>0.031823</td>\n",
              "      <td>14.481071</td>\n",
              "      <td>1196.653371</td>\n",
              "      <td>17.264052</td>\n",
              "      <td>0.135589</td>\n",
              "    </tr>\n",
              "    <tr>\n",
              "      <th>min</th>\n",
              "      <td>2.240000</td>\n",
              "      <td>0.000000</td>\n",
              "      <td>1.000000</td>\n",
              "      <td>-14140.700000</td>\n",
              "      <td>0.490000</td>\n",
              "      <td>0.350000</td>\n",
              "    </tr>\n",
              "    <tr>\n",
              "      <th>25%</th>\n",
              "      <td>143.195000</td>\n",
              "      <td>0.020000</td>\n",
              "      <td>13.000000</td>\n",
              "      <td>-83.315000</td>\n",
              "      <td>3.300000</td>\n",
              "      <td>0.380000</td>\n",
              "    </tr>\n",
              "    <tr>\n",
              "      <th>50%</th>\n",
              "      <td>449.420000</td>\n",
              "      <td>0.050000</td>\n",
              "      <td>26.000000</td>\n",
              "      <td>-1.500000</td>\n",
              "      <td>6.070000</td>\n",
              "      <td>0.520000</td>\n",
              "    </tr>\n",
              "    <tr>\n",
              "      <th>75%</th>\n",
              "      <td>1709.320000</td>\n",
              "      <td>0.080000</td>\n",
              "      <td>38.000000</td>\n",
              "      <td>162.750000</td>\n",
              "      <td>13.990000</td>\n",
              "      <td>0.590000</td>\n",
              "    </tr>\n",
              "    <tr>\n",
              "      <th>max</th>\n",
              "      <td>89061.050000</td>\n",
              "      <td>0.250000</td>\n",
              "      <td>50.000000</td>\n",
              "      <td>27220.690000</td>\n",
              "      <td>164.730000</td>\n",
              "      <td>0.850000</td>\n",
              "    </tr>\n",
              "  </tbody>\n",
              "</table>\n",
              "</div>"
            ],
            "text/plain": [
              "              Sales     Discount  ...  Shipping_Cost  Product_Base_Margin\n",
              "count   8399.000000  8399.000000  ...    8399.000000          8336.000000\n",
              "mean    1775.878179     0.049671  ...      12.838557             0.512513\n",
              "std     3585.050525     0.031823  ...      17.264052             0.135589\n",
              "min        2.240000     0.000000  ...       0.490000             0.350000\n",
              "25%      143.195000     0.020000  ...       3.300000             0.380000\n",
              "50%      449.420000     0.050000  ...       6.070000             0.520000\n",
              "75%     1709.320000     0.080000  ...      13.990000             0.590000\n",
              "max    89061.050000     0.250000  ...     164.730000             0.850000\n",
              "\n",
              "[8 rows x 6 columns]"
            ]
          },
          "metadata": {
            "tags": []
          },
          "execution_count": 11
        }
      ]
    },
    {
      "cell_type": "code",
      "metadata": {
        "colab": {
          "base_uri": "https://localhost:8080/"
        },
        "id": "fQbkfFNSO9Oh",
        "outputId": "247dcf15-3a5a-4da6-a33c-4bc8cabd10e5"
      },
      "source": [
        "df.columns"
      ],
      "execution_count": 9,
      "outputs": [
        {
          "output_type": "execute_result",
          "data": {
            "text/plain": [
              "Index(['Ord_id', 'Prod_id', 'Ship_id', 'Cust_id', 'Sales', 'Discount',\n",
              "       'Order_Quantity', 'Profit', 'Shipping_Cost', 'Product_Base_Margin'],\n",
              "      dtype='object')"
            ]
          },
          "metadata": {
            "tags": []
          },
          "execution_count": 9
        }
      ]
    },
    {
      "cell_type": "code",
      "metadata": {
        "colab": {
          "base_uri": "https://localhost:8080/"
        },
        "id": "GHnbuHIjRROD",
        "outputId": "52801ce6-bcb8-4c02-9491-58b6f1a61fd0"
      },
      "source": [
        "df.shape"
      ],
      "execution_count": 10,
      "outputs": [
        {
          "output_type": "execute_result",
          "data": {
            "text/plain": [
              "(8399, 10)"
            ]
          },
          "metadata": {
            "tags": []
          },
          "execution_count": 10
        }
      ]
    },
    {
      "cell_type": "code",
      "metadata": {
        "colab": {
          "base_uri": "https://localhost:8080/"
        },
        "id": "7vwIt23bRrOS",
        "outputId": "20e5a02b-7ad9-4d95-8c52-f34a308b05d7"
      },
      "source": [
        "# Extracting of values as numpy array\r\n",
        "\r\n",
        "df.values"
      ],
      "execution_count": 13,
      "outputs": [
        {
          "output_type": "execute_result",
          "data": {
            "text/plain": [
              "array([['Ord_5446', 'Prod_16', 'SHP_7609', ..., -30.51, 3.6, 0.56],\n",
              "       ['Ord_5406', 'Prod_13', 'SHP_7549', ..., 4.56, 0.93, 0.54],\n",
              "       ['Ord_5446', 'Prod_4', 'SHP_7610', ..., 1148.9, 2.5, 0.59],\n",
              "       ...,\n",
              "       ['Ord_5388', 'Prod_6', 'SHP_7524', ..., -70.85, 5.35, 0.4],\n",
              "       ['Ord_5348', 'Prod_15', 'SHP_7469', ..., 565.34, 30.0, 0.62],\n",
              "       ['Ord_5459', 'Prod_6', 'SHP_7628', ..., 131.39, 4.86, 0.38]],\n",
              "      dtype=object)"
            ]
          },
          "metadata": {
            "tags": []
          },
          "execution_count": 13
        }
      ]
    },
    {
      "cell_type": "code",
      "metadata": {
        "colab": {
          "base_uri": "https://localhost:8080/",
          "height": 218
        },
        "id": "NGLQrVxySKtr",
        "outputId": "20ffd8f3-cbff-4d88-a6c5-cfa69bf24dba"
      },
      "source": [
        "# ordering the data by \"Profit\"\r\n",
        "\r\n",
        "df.sort_values(by=\"Profit\").head().head()"
      ],
      "execution_count": 23,
      "outputs": [
        {
          "output_type": "execute_result",
          "data": {
            "text/html": [
              "<div>\n",
              "<style scoped>\n",
              "    .dataframe tbody tr th:only-of-type {\n",
              "        vertical-align: middle;\n",
              "    }\n",
              "\n",
              "    .dataframe tbody tr th {\n",
              "        vertical-align: top;\n",
              "    }\n",
              "\n",
              "    .dataframe thead th {\n",
              "        text-align: right;\n",
              "    }\n",
              "</style>\n",
              "<table border=\"1\" class=\"dataframe\">\n",
              "  <thead>\n",
              "    <tr style=\"text-align: right;\">\n",
              "      <th></th>\n",
              "      <th>Ord_id</th>\n",
              "      <th>Prod_id</th>\n",
              "      <th>Ship_id</th>\n",
              "      <th>Cust_id</th>\n",
              "      <th>Sales</th>\n",
              "      <th>Discount</th>\n",
              "      <th>Order_Quantity</th>\n",
              "      <th>Profit</th>\n",
              "      <th>Shipping_Cost</th>\n",
              "      <th>Product_Base_Margin</th>\n",
              "    </tr>\n",
              "  </thead>\n",
              "  <tbody>\n",
              "    <tr>\n",
              "      <th>6952</th>\n",
              "      <td>Ord_5452</td>\n",
              "      <td>Prod_17</td>\n",
              "      <td>SHP_7621</td>\n",
              "      <td>Cust_1796</td>\n",
              "      <td>18888.00</td>\n",
              "      <td>0.09</td>\n",
              "      <td>3</td>\n",
              "      <td>-14140.70</td>\n",
              "      <td>24.49</td>\n",
              "      <td>0.39</td>\n",
              "    </tr>\n",
              "    <tr>\n",
              "      <th>4772</th>\n",
              "      <td>Ord_5047</td>\n",
              "      <td>Prod_17</td>\n",
              "      <td>SHP_7043</td>\n",
              "      <td>Cust_1714</td>\n",
              "      <td>19707.20</td>\n",
              "      <td>0.04</td>\n",
              "      <td>3</td>\n",
              "      <td>-12558.00</td>\n",
              "      <td>24.49</td>\n",
              "      <td>0.39</td>\n",
              "    </tr>\n",
              "    <tr>\n",
              "      <th>84</th>\n",
              "      <td>Ord_5232</td>\n",
              "      <td>Prod_17</td>\n",
              "      <td>SHP_7306</td>\n",
              "      <td>Cust_1758</td>\n",
              "      <td>21366.51</td>\n",
              "      <td>0.00</td>\n",
              "      <td>3</td>\n",
              "      <td>-11984.40</td>\n",
              "      <td>24.49</td>\n",
              "      <td>0.39</td>\n",
              "    </tr>\n",
              "    <tr>\n",
              "      <th>5454</th>\n",
              "      <td>Ord_3903</td>\n",
              "      <td>Prod_14</td>\n",
              "      <td>SHP_5417</td>\n",
              "      <td>Cust_1334</td>\n",
              "      <td>3457.99</td>\n",
              "      <td>0.05</td>\n",
              "      <td>1</td>\n",
              "      <td>-11861.46</td>\n",
              "      <td>24.49</td>\n",
              "      <td>0.37</td>\n",
              "    </tr>\n",
              "    <tr>\n",
              "      <th>5968</th>\n",
              "      <td>Ord_3073</td>\n",
              "      <td>Prod_14</td>\n",
              "      <td>SHP_4267</td>\n",
              "      <td>Cust_1142</td>\n",
              "      <td>3550.28</td>\n",
              "      <td>0.06</td>\n",
              "      <td>1</td>\n",
              "      <td>-11769.17</td>\n",
              "      <td>24.49</td>\n",
              "      <td>0.37</td>\n",
              "    </tr>\n",
              "  </tbody>\n",
              "</table>\n",
              "</div>"
            ],
            "text/plain": [
              "        Ord_id  Prod_id   Ship_id  ...    Profit  Shipping_Cost  Product_Base_Margin\n",
              "6952  Ord_5452  Prod_17  SHP_7621  ... -14140.70          24.49                 0.39\n",
              "4772  Ord_5047  Prod_17  SHP_7043  ... -12558.00          24.49                 0.39\n",
              "84    Ord_5232  Prod_17  SHP_7306  ... -11984.40          24.49                 0.39\n",
              "5454  Ord_3903  Prod_14  SHP_5417  ... -11861.46          24.49                 0.37\n",
              "5968  Ord_3073  Prod_14  SHP_4267  ... -11769.17          24.49                 0.37\n",
              "\n",
              "[5 rows x 10 columns]"
            ]
          },
          "metadata": {
            "tags": []
          },
          "execution_count": 23
        }
      ]
    },
    {
      "cell_type": "code",
      "metadata": {
        "colab": {
          "base_uri": "https://localhost:8080/",
          "height": 218
        },
        "id": "0WX12kk-Uggz",
        "outputId": "873720fd-9d63-482c-8f17-496d6d9974f8"
      },
      "source": [
        "# Ordering by descending order\r\n",
        "\r\n",
        "df.sort_values(by=\"Profit\", ascending=False).head()\r\n",
        "\r\n",
        "# We put ascending=True if we want to order by descending"
      ],
      "execution_count": 29,
      "outputs": [
        {
          "output_type": "execute_result",
          "data": {
            "text/html": [
              "<div>\n",
              "<style scoped>\n",
              "    .dataframe tbody tr th:only-of-type {\n",
              "        vertical-align: middle;\n",
              "    }\n",
              "\n",
              "    .dataframe tbody tr th {\n",
              "        vertical-align: top;\n",
              "    }\n",
              "\n",
              "    .dataframe thead th {\n",
              "        text-align: right;\n",
              "    }\n",
              "</style>\n",
              "<table border=\"1\" class=\"dataframe\">\n",
              "  <thead>\n",
              "    <tr style=\"text-align: right;\">\n",
              "      <th></th>\n",
              "      <th>Ord_id</th>\n",
              "      <th>Prod_id</th>\n",
              "      <th>Ship_id</th>\n",
              "      <th>Cust_id</th>\n",
              "      <th>Sales</th>\n",
              "      <th>Discount</th>\n",
              "      <th>Order_Quantity</th>\n",
              "      <th>Profit</th>\n",
              "      <th>Shipping_Cost</th>\n",
              "      <th>Product_Base_Margin</th>\n",
              "    </tr>\n",
              "  </thead>\n",
              "  <tbody>\n",
              "    <tr>\n",
              "      <th>2738</th>\n",
              "      <td>Ord_3084</td>\n",
              "      <td>Prod_17</td>\n",
              "      <td>SHP_4279</td>\n",
              "      <td>Cust_1151</td>\n",
              "      <td>89061.05</td>\n",
              "      <td>0.00</td>\n",
              "      <td>13</td>\n",
              "      <td>27220.69</td>\n",
              "      <td>24.49</td>\n",
              "      <td>0.39</td>\n",
              "    </tr>\n",
              "    <tr>\n",
              "      <th>385</th>\n",
              "      <td>Ord_3707</td>\n",
              "      <td>Prod_17</td>\n",
              "      <td>SHP_5136</td>\n",
              "      <td>Cust_1307</td>\n",
              "      <td>28359.40</td>\n",
              "      <td>0.05</td>\n",
              "      <td>49</td>\n",
              "      <td>14440.39</td>\n",
              "      <td>24.49</td>\n",
              "      <td>0.37</td>\n",
              "    </tr>\n",
              "    <tr>\n",
              "      <th>2253</th>\n",
              "      <td>Ord_3143</td>\n",
              "      <td>Prod_14</td>\n",
              "      <td>SHP_4362</td>\n",
              "      <td>Cust_1170</td>\n",
              "      <td>28664.52</td>\n",
              "      <td>0.09</td>\n",
              "      <td>50</td>\n",
              "      <td>13340.26</td>\n",
              "      <td>24.49</td>\n",
              "      <td>0.37</td>\n",
              "    </tr>\n",
              "    <tr>\n",
              "      <th>4399</th>\n",
              "      <td>Ord_4614</td>\n",
              "      <td>Prod_14</td>\n",
              "      <td>SHP_6423</td>\n",
              "      <td>Cust_1571</td>\n",
              "      <td>29884.60</td>\n",
              "      <td>0.05</td>\n",
              "      <td>49</td>\n",
              "      <td>12748.86</td>\n",
              "      <td>24.49</td>\n",
              "      <td>0.44</td>\n",
              "    </tr>\n",
              "    <tr>\n",
              "      <th>6765</th>\n",
              "      <td>Ord_5186</td>\n",
              "      <td>Prod_17</td>\n",
              "      <td>SHP_7247</td>\n",
              "      <td>Cust_1763</td>\n",
              "      <td>26095.13</td>\n",
              "      <td>0.03</td>\n",
              "      <td>35</td>\n",
              "      <td>12606.81</td>\n",
              "      <td>55.30</td>\n",
              "      <td>0.40</td>\n",
              "    </tr>\n",
              "  </tbody>\n",
              "</table>\n",
              "</div>"
            ],
            "text/plain": [
              "        Ord_id  Prod_id   Ship_id  ...    Profit  Shipping_Cost  Product_Base_Margin\n",
              "2738  Ord_3084  Prod_17  SHP_4279  ...  27220.69          24.49                 0.39\n",
              "385   Ord_3707  Prod_17  SHP_5136  ...  14440.39          24.49                 0.37\n",
              "2253  Ord_3143  Prod_14  SHP_4362  ...  13340.26          24.49                 0.37\n",
              "4399  Ord_4614  Prod_14  SHP_6423  ...  12748.86          24.49                 0.44\n",
              "6765  Ord_5186  Prod_17  SHP_7247  ...  12606.81          55.30                 0.40\n",
              "\n",
              "[5 rows x 10 columns]"
            ]
          },
          "metadata": {
            "tags": []
          },
          "execution_count": 29
        }
      ]
    },
    {
      "cell_type": "code",
      "metadata": {
        "colab": {
          "base_uri": "https://localhost:8080/",
          "height": 218
        },
        "id": "BrNc8zc_Tg9e",
        "outputId": "8ba45126-a4d8-481a-f288-31a16190eee1"
      },
      "source": [
        "# Let's sort by 2 columns\r\n",
        "df.sort_values(by=[\"Profit\",\"Sales\"], ascending=\"True\").head()"
      ],
      "execution_count": 34,
      "outputs": [
        {
          "output_type": "execute_result",
          "data": {
            "text/html": [
              "<div>\n",
              "<style scoped>\n",
              "    .dataframe tbody tr th:only-of-type {\n",
              "        vertical-align: middle;\n",
              "    }\n",
              "\n",
              "    .dataframe tbody tr th {\n",
              "        vertical-align: top;\n",
              "    }\n",
              "\n",
              "    .dataframe thead th {\n",
              "        text-align: right;\n",
              "    }\n",
              "</style>\n",
              "<table border=\"1\" class=\"dataframe\">\n",
              "  <thead>\n",
              "    <tr style=\"text-align: right;\">\n",
              "      <th></th>\n",
              "      <th>Ord_id</th>\n",
              "      <th>Prod_id</th>\n",
              "      <th>Ship_id</th>\n",
              "      <th>Cust_id</th>\n",
              "      <th>Sales</th>\n",
              "      <th>Discount</th>\n",
              "      <th>Order_Quantity</th>\n",
              "      <th>Profit</th>\n",
              "      <th>Shipping_Cost</th>\n",
              "      <th>Product_Base_Margin</th>\n",
              "    </tr>\n",
              "  </thead>\n",
              "  <tbody>\n",
              "    <tr>\n",
              "      <th>6952</th>\n",
              "      <td>Ord_5452</td>\n",
              "      <td>Prod_17</td>\n",
              "      <td>SHP_7621</td>\n",
              "      <td>Cust_1796</td>\n",
              "      <td>18888.00</td>\n",
              "      <td>0.09</td>\n",
              "      <td>3</td>\n",
              "      <td>-14140.70</td>\n",
              "      <td>24.49</td>\n",
              "      <td>0.39</td>\n",
              "    </tr>\n",
              "    <tr>\n",
              "      <th>4772</th>\n",
              "      <td>Ord_5047</td>\n",
              "      <td>Prod_17</td>\n",
              "      <td>SHP_7043</td>\n",
              "      <td>Cust_1714</td>\n",
              "      <td>19707.20</td>\n",
              "      <td>0.04</td>\n",
              "      <td>3</td>\n",
              "      <td>-12558.00</td>\n",
              "      <td>24.49</td>\n",
              "      <td>0.39</td>\n",
              "    </tr>\n",
              "    <tr>\n",
              "      <th>84</th>\n",
              "      <td>Ord_5232</td>\n",
              "      <td>Prod_17</td>\n",
              "      <td>SHP_7306</td>\n",
              "      <td>Cust_1758</td>\n",
              "      <td>21366.51</td>\n",
              "      <td>0.00</td>\n",
              "      <td>3</td>\n",
              "      <td>-11984.40</td>\n",
              "      <td>24.49</td>\n",
              "      <td>0.39</td>\n",
              "    </tr>\n",
              "    <tr>\n",
              "      <th>5454</th>\n",
              "      <td>Ord_3903</td>\n",
              "      <td>Prod_14</td>\n",
              "      <td>SHP_5417</td>\n",
              "      <td>Cust_1334</td>\n",
              "      <td>3457.99</td>\n",
              "      <td>0.05</td>\n",
              "      <td>1</td>\n",
              "      <td>-11861.46</td>\n",
              "      <td>24.49</td>\n",
              "      <td>0.37</td>\n",
              "    </tr>\n",
              "    <tr>\n",
              "      <th>5968</th>\n",
              "      <td>Ord_3073</td>\n",
              "      <td>Prod_14</td>\n",
              "      <td>SHP_4267</td>\n",
              "      <td>Cust_1142</td>\n",
              "      <td>3550.28</td>\n",
              "      <td>0.06</td>\n",
              "      <td>1</td>\n",
              "      <td>-11769.17</td>\n",
              "      <td>24.49</td>\n",
              "      <td>0.37</td>\n",
              "    </tr>\n",
              "  </tbody>\n",
              "</table>\n",
              "</div>"
            ],
            "text/plain": [
              "        Ord_id  Prod_id   Ship_id  ...    Profit  Shipping_Cost  Product_Base_Margin\n",
              "6952  Ord_5452  Prod_17  SHP_7621  ... -14140.70          24.49                 0.39\n",
              "4772  Ord_5047  Prod_17  SHP_7043  ... -12558.00          24.49                 0.39\n",
              "84    Ord_5232  Prod_17  SHP_7306  ... -11984.40          24.49                 0.39\n",
              "5454  Ord_3903  Prod_14  SHP_5417  ... -11861.46          24.49                 0.37\n",
              "5968  Ord_3073  Prod_14  SHP_4267  ... -11769.17          24.49                 0.37\n",
              "\n",
              "[5 rows x 10 columns]"
            ]
          },
          "metadata": {
            "tags": []
          },
          "execution_count": 34
        }
      ]
    },
    {
      "cell_type": "code",
      "metadata": {
        "colab": {
          "base_uri": "https://localhost:8080/",
          "height": 248
        },
        "id": "be66O_azWaLc",
        "outputId": "22eee8a3-4e5b-4b3f-f318-46e0c543b7b4"
      },
      "source": [
        "# Selecting the rows from indexes 1 to 6\r\n",
        "df[1:7]"
      ],
      "execution_count": 36,
      "outputs": [
        {
          "output_type": "execute_result",
          "data": {
            "text/html": [
              "<div>\n",
              "<style scoped>\n",
              "    .dataframe tbody tr th:only-of-type {\n",
              "        vertical-align: middle;\n",
              "    }\n",
              "\n",
              "    .dataframe tbody tr th {\n",
              "        vertical-align: top;\n",
              "    }\n",
              "\n",
              "    .dataframe thead th {\n",
              "        text-align: right;\n",
              "    }\n",
              "</style>\n",
              "<table border=\"1\" class=\"dataframe\">\n",
              "  <thead>\n",
              "    <tr style=\"text-align: right;\">\n",
              "      <th></th>\n",
              "      <th>Ord_id</th>\n",
              "      <th>Prod_id</th>\n",
              "      <th>Ship_id</th>\n",
              "      <th>Cust_id</th>\n",
              "      <th>Sales</th>\n",
              "      <th>Discount</th>\n",
              "      <th>Order_Quantity</th>\n",
              "      <th>Profit</th>\n",
              "      <th>Shipping_Cost</th>\n",
              "      <th>Product_Base_Margin</th>\n",
              "    </tr>\n",
              "  </thead>\n",
              "  <tbody>\n",
              "    <tr>\n",
              "      <th>1</th>\n",
              "      <td>Ord_5406</td>\n",
              "      <td>Prod_13</td>\n",
              "      <td>SHP_7549</td>\n",
              "      <td>Cust_1818</td>\n",
              "      <td>42.27</td>\n",
              "      <td>0.01</td>\n",
              "      <td>13</td>\n",
              "      <td>4.56</td>\n",
              "      <td>0.93</td>\n",
              "      <td>0.54</td>\n",
              "    </tr>\n",
              "    <tr>\n",
              "      <th>2</th>\n",
              "      <td>Ord_5446</td>\n",
              "      <td>Prod_4</td>\n",
              "      <td>SHP_7610</td>\n",
              "      <td>Cust_1818</td>\n",
              "      <td>4701.69</td>\n",
              "      <td>0.00</td>\n",
              "      <td>26</td>\n",
              "      <td>1148.90</td>\n",
              "      <td>2.50</td>\n",
              "      <td>0.59</td>\n",
              "    </tr>\n",
              "    <tr>\n",
              "      <th>3</th>\n",
              "      <td>Ord_5456</td>\n",
              "      <td>Prod_6</td>\n",
              "      <td>SHP_7625</td>\n",
              "      <td>Cust_1818</td>\n",
              "      <td>2337.89</td>\n",
              "      <td>0.09</td>\n",
              "      <td>43</td>\n",
              "      <td>729.34</td>\n",
              "      <td>14.30</td>\n",
              "      <td>0.37</td>\n",
              "    </tr>\n",
              "    <tr>\n",
              "      <th>4</th>\n",
              "      <td>Ord_5485</td>\n",
              "      <td>Prod_17</td>\n",
              "      <td>SHP_7664</td>\n",
              "      <td>Cust_1818</td>\n",
              "      <td>4233.15</td>\n",
              "      <td>0.08</td>\n",
              "      <td>35</td>\n",
              "      <td>1219.87</td>\n",
              "      <td>26.30</td>\n",
              "      <td>0.38</td>\n",
              "    </tr>\n",
              "    <tr>\n",
              "      <th>5</th>\n",
              "      <td>Ord_5446</td>\n",
              "      <td>Prod_6</td>\n",
              "      <td>SHP_7608</td>\n",
              "      <td>Cust_1818</td>\n",
              "      <td>164.02</td>\n",
              "      <td>0.03</td>\n",
              "      <td>23</td>\n",
              "      <td>-47.64</td>\n",
              "      <td>6.15</td>\n",
              "      <td>0.37</td>\n",
              "    </tr>\n",
              "    <tr>\n",
              "      <th>6</th>\n",
              "      <td>Ord_31</td>\n",
              "      <td>Prod_12</td>\n",
              "      <td>SHP_41</td>\n",
              "      <td>Cust_26</td>\n",
              "      <td>14.76</td>\n",
              "      <td>0.01</td>\n",
              "      <td>5</td>\n",
              "      <td>1.32</td>\n",
              "      <td>0.50</td>\n",
              "      <td>0.36</td>\n",
              "    </tr>\n",
              "  </tbody>\n",
              "</table>\n",
              "</div>"
            ],
            "text/plain": [
              "     Ord_id  Prod_id   Ship_id  ...   Profit  Shipping_Cost  Product_Base_Margin\n",
              "1  Ord_5406  Prod_13  SHP_7549  ...     4.56           0.93                 0.54\n",
              "2  Ord_5446   Prod_4  SHP_7610  ...  1148.90           2.50                 0.59\n",
              "3  Ord_5456   Prod_6  SHP_7625  ...   729.34          14.30                 0.37\n",
              "4  Ord_5485  Prod_17  SHP_7664  ...  1219.87          26.30                 0.38\n",
              "5  Ord_5446   Prod_6  SHP_7608  ...   -47.64           6.15                 0.37\n",
              "6    Ord_31  Prod_12    SHP_41  ...     1.32           0.50                 0.36\n",
              "\n",
              "[6 rows x 10 columns]"
            ]
          },
          "metadata": {
            "tags": []
          },
          "execution_count": 36
        }
      ]
    },
    {
      "cell_type": "code",
      "metadata": {
        "colab": {
          "base_uri": "https://localhost:8080/",
          "height": 218
        },
        "id": "l7rP8ckNXLPK",
        "outputId": "6815b95a-2391-40f9-d3fb-e91ad9eeab12"
      },
      "source": [
        "# We select all the even rows. We start by row 2 on\r\n",
        "\r\n",
        "df[2::2].head()"
      ],
      "execution_count": 70,
      "outputs": [
        {
          "output_type": "execute_result",
          "data": {
            "text/html": [
              "<div>\n",
              "<style scoped>\n",
              "    .dataframe tbody tr th:only-of-type {\n",
              "        vertical-align: middle;\n",
              "    }\n",
              "\n",
              "    .dataframe tbody tr th {\n",
              "        vertical-align: top;\n",
              "    }\n",
              "\n",
              "    .dataframe thead th {\n",
              "        text-align: right;\n",
              "    }\n",
              "</style>\n",
              "<table border=\"1\" class=\"dataframe\">\n",
              "  <thead>\n",
              "    <tr style=\"text-align: right;\">\n",
              "      <th></th>\n",
              "      <th>Ord_id</th>\n",
              "      <th>Prod_id</th>\n",
              "      <th>Ship_id</th>\n",
              "      <th>Cust_id</th>\n",
              "      <th>Sales</th>\n",
              "      <th>Discount</th>\n",
              "      <th>Order_Quantity</th>\n",
              "      <th>Profit</th>\n",
              "      <th>Shipping_Cost</th>\n",
              "      <th>Product_Base_Margin</th>\n",
              "    </tr>\n",
              "  </thead>\n",
              "  <tbody>\n",
              "    <tr>\n",
              "      <th>2</th>\n",
              "      <td>Ord_5446</td>\n",
              "      <td>Prod_4</td>\n",
              "      <td>SHP_7610</td>\n",
              "      <td>Cust_1818</td>\n",
              "      <td>4701.69</td>\n",
              "      <td>0.00</td>\n",
              "      <td>26</td>\n",
              "      <td>1148.90</td>\n",
              "      <td>2.50</td>\n",
              "      <td>0.59</td>\n",
              "    </tr>\n",
              "    <tr>\n",
              "      <th>4</th>\n",
              "      <td>Ord_5485</td>\n",
              "      <td>Prod_17</td>\n",
              "      <td>SHP_7664</td>\n",
              "      <td>Cust_1818</td>\n",
              "      <td>4233.15</td>\n",
              "      <td>0.08</td>\n",
              "      <td>35</td>\n",
              "      <td>1219.87</td>\n",
              "      <td>26.30</td>\n",
              "      <td>0.38</td>\n",
              "    </tr>\n",
              "    <tr>\n",
              "      <th>6</th>\n",
              "      <td>Ord_31</td>\n",
              "      <td>Prod_12</td>\n",
              "      <td>SHP_41</td>\n",
              "      <td>Cust_26</td>\n",
              "      <td>14.76</td>\n",
              "      <td>0.01</td>\n",
              "      <td>5</td>\n",
              "      <td>1.32</td>\n",
              "      <td>0.50</td>\n",
              "      <td>0.36</td>\n",
              "    </tr>\n",
              "    <tr>\n",
              "      <th>8</th>\n",
              "      <td>Ord_4725</td>\n",
              "      <td>Prod_13</td>\n",
              "      <td>SHP_6593</td>\n",
              "      <td>Cust_1641</td>\n",
              "      <td>162.00</td>\n",
              "      <td>0.01</td>\n",
              "      <td>33</td>\n",
              "      <td>45.84</td>\n",
              "      <td>0.71</td>\n",
              "      <td>0.52</td>\n",
              "    </tr>\n",
              "    <tr>\n",
              "      <th>10</th>\n",
              "      <td>Ord_4743</td>\n",
              "      <td>Prod_2</td>\n",
              "      <td>SHP_6615</td>\n",
              "      <td>Cust_1641</td>\n",
              "      <td>4072.01</td>\n",
              "      <td>0.01</td>\n",
              "      <td>43</td>\n",
              "      <td>1675.98</td>\n",
              "      <td>0.99</td>\n",
              "      <td>0.56</td>\n",
              "    </tr>\n",
              "  </tbody>\n",
              "</table>\n",
              "</div>"
            ],
            "text/plain": [
              "      Ord_id  Prod_id   Ship_id  ...   Profit  Shipping_Cost  Product_Base_Margin\n",
              "2   Ord_5446   Prod_4  SHP_7610  ...  1148.90           2.50                 0.59\n",
              "4   Ord_5485  Prod_17  SHP_7664  ...  1219.87          26.30                 0.38\n",
              "6     Ord_31  Prod_12    SHP_41  ...     1.32           0.50                 0.36\n",
              "8   Ord_4725  Prod_13  SHP_6593  ...    45.84           0.71                 0.52\n",
              "10  Ord_4743   Prod_2  SHP_6615  ...  1675.98           0.99                 0.56\n",
              "\n",
              "[5 rows x 10 columns]"
            ]
          },
          "metadata": {
            "tags": []
          },
          "execution_count": 70
        }
      ]
    },
    {
      "cell_type": "code",
      "metadata": {
        "colab": {
          "base_uri": "https://localhost:8080/"
        },
        "id": "K639omkXY5jX",
        "outputId": "bd5c2b30-198c-4199-c188-4e3f7377d00d"
      },
      "source": [
        "sale_1 = df[\"Profit\"]\r\n",
        "sale_1.head()"
      ],
      "execution_count": 49,
      "outputs": [
        {
          "output_type": "execute_result",
          "data": {
            "text/plain": [
              "0     -30.51\n",
              "1       4.56\n",
              "2    1148.90\n",
              "3     729.34\n",
              "4    1219.87\n",
              "Name: Profit, dtype: float64"
            ]
          },
          "metadata": {
            "tags": []
          },
          "execution_count": 49
        }
      ]
    },
    {
      "cell_type": "code",
      "metadata": {
        "colab": {
          "base_uri": "https://localhost:8080/"
        },
        "id": "-cP5uH4Ga_BO",
        "outputId": "9fb4066f-dc6a-4718-f752-7763417a637e"
      },
      "source": [
        "Sale_2 = df.Sales\r\n",
        "Sale_2.head()"
      ],
      "execution_count": 53,
      "outputs": [
        {
          "output_type": "execute_result",
          "data": {
            "text/plain": [
              "0     136.81\n",
              "1      42.27\n",
              "2    4701.69\n",
              "3    2337.89\n",
              "4    4233.15\n",
              "Name: Sales, dtype: float64"
            ]
          },
          "metadata": {
            "tags": []
          },
          "execution_count": 53
        }
      ]
    },
    {
      "cell_type": "code",
      "metadata": {
        "colab": {
          "base_uri": "https://localhost:8080/"
        },
        "id": "pj-t7VzOdSaL",
        "outputId": "fda4770d-44cf-4106-d121-94cf0feb3ac7"
      },
      "source": [
        "df.columns"
      ],
      "execution_count": 54,
      "outputs": [
        {
          "output_type": "execute_result",
          "data": {
            "text/plain": [
              "Index(['Ord_id', 'Prod_id', 'Ship_id', 'Cust_id', 'Sales', 'Discount',\n",
              "       'Order_Quantity', 'Profit', 'Shipping_Cost', 'Product_Base_Margin'],\n",
              "      dtype='object')"
            ]
          },
          "metadata": {
            "tags": []
          },
          "execution_count": 54
        }
      ]
    },
    {
      "cell_type": "code",
      "metadata": {
        "colab": {
          "base_uri": "https://localhost:8080/",
          "height": 198
        },
        "id": "p9elgP0Ic48H",
        "outputId": "5be7ceea-37f1-42f2-cd0e-b4a3258b0f45"
      },
      "source": [
        "# Selecting multi-columns\r\n",
        "multi_df = df[['Cust_id','Sales','Profit']]\r\n",
        "\r\n",
        "multi_df = multi_df.head()\r\n",
        "multi_df"
      ],
      "execution_count": 86,
      "outputs": [
        {
          "output_type": "execute_result",
          "data": {
            "text/html": [
              "<div>\n",
              "<style scoped>\n",
              "    .dataframe tbody tr th:only-of-type {\n",
              "        vertical-align: middle;\n",
              "    }\n",
              "\n",
              "    .dataframe tbody tr th {\n",
              "        vertical-align: top;\n",
              "    }\n",
              "\n",
              "    .dataframe thead th {\n",
              "        text-align: right;\n",
              "    }\n",
              "</style>\n",
              "<table border=\"1\" class=\"dataframe\">\n",
              "  <thead>\n",
              "    <tr style=\"text-align: right;\">\n",
              "      <th></th>\n",
              "      <th>Cust_id</th>\n",
              "      <th>Sales</th>\n",
              "      <th>Profit</th>\n",
              "    </tr>\n",
              "  </thead>\n",
              "  <tbody>\n",
              "    <tr>\n",
              "      <th>0</th>\n",
              "      <td>Cust_1818</td>\n",
              "      <td>136.81</td>\n",
              "      <td>-30.51</td>\n",
              "    </tr>\n",
              "    <tr>\n",
              "      <th>1</th>\n",
              "      <td>Cust_1818</td>\n",
              "      <td>42.27</td>\n",
              "      <td>4.56</td>\n",
              "    </tr>\n",
              "    <tr>\n",
              "      <th>2</th>\n",
              "      <td>Cust_1818</td>\n",
              "      <td>4701.69</td>\n",
              "      <td>1148.90</td>\n",
              "    </tr>\n",
              "    <tr>\n",
              "      <th>3</th>\n",
              "      <td>Cust_1818</td>\n",
              "      <td>2337.89</td>\n",
              "      <td>729.34</td>\n",
              "    </tr>\n",
              "    <tr>\n",
              "      <th>4</th>\n",
              "      <td>Cust_1818</td>\n",
              "      <td>4233.15</td>\n",
              "      <td>1219.87</td>\n",
              "    </tr>\n",
              "  </tbody>\n",
              "</table>\n",
              "</div>"
            ],
            "text/plain": [
              "     Cust_id    Sales   Profit\n",
              "0  Cust_1818   136.81   -30.51\n",
              "1  Cust_1818    42.27     4.56\n",
              "2  Cust_1818  4701.69  1148.90\n",
              "3  Cust_1818  2337.89   729.34\n",
              "4  Cust_1818  4233.15  1219.87"
            ]
          },
          "metadata": {
            "tags": []
          },
          "execution_count": 86
        }
      ]
    },
    {
      "cell_type": "code",
      "metadata": {
        "colab": {
          "base_uri": "https://localhost:8080/"
        },
        "id": "_zSQdUngalDr",
        "outputId": "b352d5ae-c484-4373-fbbf-34a3293ac96f"
      },
      "source": [
        "multi_df.iloc[2,:]"
      ],
      "execution_count": 100,
      "outputs": [
        {
          "output_type": "execute_result",
          "data": {
            "text/plain": [
              "Cust_id    Cust_1818\n",
              "Sales        4701.69\n",
              "Profit        1148.9\n",
              "Name: 2, dtype: object"
            ]
          },
          "metadata": {
            "tags": []
          },
          "execution_count": 100
        }
      ]
    },
    {
      "cell_type": "code",
      "metadata": {
        "colab": {
          "base_uri": "https://localhost:8080/"
        },
        "id": "eTCyCyOnhHjM",
        "outputId": "b378b893-9ae8-4565-f686-4173f38e1ae0"
      },
      "source": [
        "multi_df.iloc[:,2]"
      ],
      "execution_count": 101,
      "outputs": [
        {
          "output_type": "execute_result",
          "data": {
            "text/plain": [
              "0     -30.51\n",
              "1       4.56\n",
              "2    1148.90\n",
              "3     729.34\n",
              "4    1219.87\n",
              "Name: Profit, dtype: float64"
            ]
          },
          "metadata": {
            "tags": []
          },
          "execution_count": 101
        }
      ]
    },
    {
      "cell_type": "code",
      "metadata": {
        "colab": {
          "base_uri": "https://localhost:8080/",
          "height": 248
        },
        "id": "73QBY-PLhnjt",
        "outputId": "48606c21-d4c0-41a9-85eb-45086dcd822c"
      },
      "source": [
        "df.iloc[3:8]"
      ],
      "execution_count": 99,
      "outputs": [
        {
          "output_type": "execute_result",
          "data": {
            "text/html": [
              "<div>\n",
              "<style scoped>\n",
              "    .dataframe tbody tr th:only-of-type {\n",
              "        vertical-align: middle;\n",
              "    }\n",
              "\n",
              "    .dataframe tbody tr th {\n",
              "        vertical-align: top;\n",
              "    }\n",
              "\n",
              "    .dataframe thead th {\n",
              "        text-align: right;\n",
              "    }\n",
              "</style>\n",
              "<table border=\"1\" class=\"dataframe\">\n",
              "  <thead>\n",
              "    <tr style=\"text-align: right;\">\n",
              "      <th></th>\n",
              "      <th>Prod_id</th>\n",
              "      <th>Ship_id</th>\n",
              "      <th>Cust_id</th>\n",
              "      <th>Sales</th>\n",
              "      <th>Discount</th>\n",
              "      <th>Order_Quantity</th>\n",
              "      <th>Profit</th>\n",
              "      <th>Shipping_Cost</th>\n",
              "      <th>Product_Base_Margin</th>\n",
              "    </tr>\n",
              "    <tr>\n",
              "      <th>Ord_id</th>\n",
              "      <th></th>\n",
              "      <th></th>\n",
              "      <th></th>\n",
              "      <th></th>\n",
              "      <th></th>\n",
              "      <th></th>\n",
              "      <th></th>\n",
              "      <th></th>\n",
              "      <th></th>\n",
              "    </tr>\n",
              "  </thead>\n",
              "  <tbody>\n",
              "    <tr>\n",
              "      <th>Ord_5456</th>\n",
              "      <td>Prod_6</td>\n",
              "      <td>SHP_7625</td>\n",
              "      <td>Cust_1818</td>\n",
              "      <td>2337.8900</td>\n",
              "      <td>0.09</td>\n",
              "      <td>43</td>\n",
              "      <td>729.34</td>\n",
              "      <td>14.30</td>\n",
              "      <td>0.37</td>\n",
              "    </tr>\n",
              "    <tr>\n",
              "      <th>Ord_5485</th>\n",
              "      <td>Prod_17</td>\n",
              "      <td>SHP_7664</td>\n",
              "      <td>Cust_1818</td>\n",
              "      <td>4233.1500</td>\n",
              "      <td>0.08</td>\n",
              "      <td>35</td>\n",
              "      <td>1219.87</td>\n",
              "      <td>26.30</td>\n",
              "      <td>0.38</td>\n",
              "    </tr>\n",
              "    <tr>\n",
              "      <th>Ord_5446</th>\n",
              "      <td>Prod_6</td>\n",
              "      <td>SHP_7608</td>\n",
              "      <td>Cust_1818</td>\n",
              "      <td>164.0200</td>\n",
              "      <td>0.03</td>\n",
              "      <td>23</td>\n",
              "      <td>-47.64</td>\n",
              "      <td>6.15</td>\n",
              "      <td>0.37</td>\n",
              "    </tr>\n",
              "    <tr>\n",
              "      <th>Ord_31</th>\n",
              "      <td>Prod_12</td>\n",
              "      <td>SHP_41</td>\n",
              "      <td>Cust_26</td>\n",
              "      <td>14.7600</td>\n",
              "      <td>0.01</td>\n",
              "      <td>5</td>\n",
              "      <td>1.32</td>\n",
              "      <td>0.50</td>\n",
              "      <td>0.36</td>\n",
              "    </tr>\n",
              "    <tr>\n",
              "      <th>Ord_4725</th>\n",
              "      <td>Prod_4</td>\n",
              "      <td>SHP_6593</td>\n",
              "      <td>Cust_1641</td>\n",
              "      <td>3410.1575</td>\n",
              "      <td>0.10</td>\n",
              "      <td>48</td>\n",
              "      <td>1137.91</td>\n",
              "      <td>0.99</td>\n",
              "      <td>0.55</td>\n",
              "    </tr>\n",
              "  </tbody>\n",
              "</table>\n",
              "</div>"
            ],
            "text/plain": [
              "          Prod_id   Ship_id  ... Shipping_Cost  Product_Base_Margin\n",
              "Ord_id                       ...                                   \n",
              "Ord_5456   Prod_6  SHP_7625  ...         14.30                 0.37\n",
              "Ord_5485  Prod_17  SHP_7664  ...         26.30                 0.38\n",
              "Ord_5446   Prod_6  SHP_7608  ...          6.15                 0.37\n",
              "Ord_31    Prod_12    SHP_41  ...          0.50                 0.36\n",
              "Ord_4725   Prod_4  SHP_6593  ...          0.99                 0.55\n",
              "\n",
              "[5 rows x 9 columns]"
            ]
          },
          "metadata": {
            "tags": []
          },
          "execution_count": 99
        }
      ]
    },
    {
      "cell_type": "code",
      "metadata": {
        "colab": {
          "base_uri": "https://localhost:8080/",
          "height": 457
        },
        "id": "0Jprna01km1w",
        "outputId": "6959658a-7dfa-43e7-8326-0dafe0764eda"
      },
      "source": [
        "df"
      ],
      "execution_count": 102,
      "outputs": [
        {
          "output_type": "execute_result",
          "data": {
            "text/html": [
              "<div>\n",
              "<style scoped>\n",
              "    .dataframe tbody tr th:only-of-type {\n",
              "        vertical-align: middle;\n",
              "    }\n",
              "\n",
              "    .dataframe tbody tr th {\n",
              "        vertical-align: top;\n",
              "    }\n",
              "\n",
              "    .dataframe thead th {\n",
              "        text-align: right;\n",
              "    }\n",
              "</style>\n",
              "<table border=\"1\" class=\"dataframe\">\n",
              "  <thead>\n",
              "    <tr style=\"text-align: right;\">\n",
              "      <th></th>\n",
              "      <th>Prod_id</th>\n",
              "      <th>Ship_id</th>\n",
              "      <th>Cust_id</th>\n",
              "      <th>Sales</th>\n",
              "      <th>Discount</th>\n",
              "      <th>Order_Quantity</th>\n",
              "      <th>Profit</th>\n",
              "      <th>Shipping_Cost</th>\n",
              "      <th>Product_Base_Margin</th>\n",
              "    </tr>\n",
              "    <tr>\n",
              "      <th>Ord_id</th>\n",
              "      <th></th>\n",
              "      <th></th>\n",
              "      <th></th>\n",
              "      <th></th>\n",
              "      <th></th>\n",
              "      <th></th>\n",
              "      <th></th>\n",
              "      <th></th>\n",
              "      <th></th>\n",
              "    </tr>\n",
              "  </thead>\n",
              "  <tbody>\n",
              "    <tr>\n",
              "      <th>Ord_5446</th>\n",
              "      <td>Prod_16</td>\n",
              "      <td>SHP_7609</td>\n",
              "      <td>Cust_1818</td>\n",
              "      <td>136.8100</td>\n",
              "      <td>0.01</td>\n",
              "      <td>23</td>\n",
              "      <td>-30.51</td>\n",
              "      <td>3.60</td>\n",
              "      <td>0.56</td>\n",
              "    </tr>\n",
              "    <tr>\n",
              "      <th>Ord_5406</th>\n",
              "      <td>Prod_13</td>\n",
              "      <td>SHP_7549</td>\n",
              "      <td>Cust_1818</td>\n",
              "      <td>42.2700</td>\n",
              "      <td>0.01</td>\n",
              "      <td>13</td>\n",
              "      <td>4.56</td>\n",
              "      <td>0.93</td>\n",
              "      <td>0.54</td>\n",
              "    </tr>\n",
              "    <tr>\n",
              "      <th>Ord_5446</th>\n",
              "      <td>Prod_4</td>\n",
              "      <td>SHP_7610</td>\n",
              "      <td>Cust_1818</td>\n",
              "      <td>4701.6900</td>\n",
              "      <td>0.00</td>\n",
              "      <td>26</td>\n",
              "      <td>1148.90</td>\n",
              "      <td>2.50</td>\n",
              "      <td>0.59</td>\n",
              "    </tr>\n",
              "    <tr>\n",
              "      <th>Ord_5456</th>\n",
              "      <td>Prod_6</td>\n",
              "      <td>SHP_7625</td>\n",
              "      <td>Cust_1818</td>\n",
              "      <td>2337.8900</td>\n",
              "      <td>0.09</td>\n",
              "      <td>43</td>\n",
              "      <td>729.34</td>\n",
              "      <td>14.30</td>\n",
              "      <td>0.37</td>\n",
              "    </tr>\n",
              "    <tr>\n",
              "      <th>Ord_5485</th>\n",
              "      <td>Prod_17</td>\n",
              "      <td>SHP_7664</td>\n",
              "      <td>Cust_1818</td>\n",
              "      <td>4233.1500</td>\n",
              "      <td>0.08</td>\n",
              "      <td>35</td>\n",
              "      <td>1219.87</td>\n",
              "      <td>26.30</td>\n",
              "      <td>0.38</td>\n",
              "    </tr>\n",
              "    <tr>\n",
              "      <th>...</th>\n",
              "      <td>...</td>\n",
              "      <td>...</td>\n",
              "      <td>...</td>\n",
              "      <td>...</td>\n",
              "      <td>...</td>\n",
              "      <td>...</td>\n",
              "      <td>...</td>\n",
              "      <td>...</td>\n",
              "      <td>...</td>\n",
              "    </tr>\n",
              "    <tr>\n",
              "      <th>Ord_5353</th>\n",
              "      <td>Prod_4</td>\n",
              "      <td>SHP_7479</td>\n",
              "      <td>Cust_1798</td>\n",
              "      <td>2841.4395</td>\n",
              "      <td>0.08</td>\n",
              "      <td>28</td>\n",
              "      <td>374.63</td>\n",
              "      <td>7.69</td>\n",
              "      <td>0.59</td>\n",
              "    </tr>\n",
              "    <tr>\n",
              "      <th>Ord_5411</th>\n",
              "      <td>Prod_6</td>\n",
              "      <td>SHP_7555</td>\n",
              "      <td>Cust_1798</td>\n",
              "      <td>127.1600</td>\n",
              "      <td>0.10</td>\n",
              "      <td>20</td>\n",
              "      <td>-74.03</td>\n",
              "      <td>6.92</td>\n",
              "      <td>0.37</td>\n",
              "    </tr>\n",
              "    <tr>\n",
              "      <th>Ord_5388</th>\n",
              "      <td>Prod_6</td>\n",
              "      <td>SHP_7524</td>\n",
              "      <td>Cust_1798</td>\n",
              "      <td>243.0500</td>\n",
              "      <td>0.02</td>\n",
              "      <td>39</td>\n",
              "      <td>-70.85</td>\n",
              "      <td>5.35</td>\n",
              "      <td>0.40</td>\n",
              "    </tr>\n",
              "    <tr>\n",
              "      <th>Ord_5348</th>\n",
              "      <td>Prod_15</td>\n",
              "      <td>SHP_7469</td>\n",
              "      <td>Cust_1798</td>\n",
              "      <td>3872.8700</td>\n",
              "      <td>0.03</td>\n",
              "      <td>23</td>\n",
              "      <td>565.34</td>\n",
              "      <td>30.00</td>\n",
              "      <td>0.62</td>\n",
              "    </tr>\n",
              "    <tr>\n",
              "      <th>Ord_5459</th>\n",
              "      <td>Prod_6</td>\n",
              "      <td>SHP_7628</td>\n",
              "      <td>Cust_1798</td>\n",
              "      <td>603.6900</td>\n",
              "      <td>0.00</td>\n",
              "      <td>47</td>\n",
              "      <td>131.39</td>\n",
              "      <td>4.86</td>\n",
              "      <td>0.38</td>\n",
              "    </tr>\n",
              "  </tbody>\n",
              "</table>\n",
              "<p>8399 rows × 9 columns</p>\n",
              "</div>"
            ],
            "text/plain": [
              "          Prod_id   Ship_id  ... Shipping_Cost  Product_Base_Margin\n",
              "Ord_id                       ...                                   \n",
              "Ord_5446  Prod_16  SHP_7609  ...          3.60                 0.56\n",
              "Ord_5406  Prod_13  SHP_7549  ...          0.93                 0.54\n",
              "Ord_5446   Prod_4  SHP_7610  ...          2.50                 0.59\n",
              "Ord_5456   Prod_6  SHP_7625  ...         14.30                 0.37\n",
              "Ord_5485  Prod_17  SHP_7664  ...         26.30                 0.38\n",
              "...           ...       ...  ...           ...                  ...\n",
              "Ord_5353   Prod_4  SHP_7479  ...          7.69                 0.59\n",
              "Ord_5411   Prod_6  SHP_7555  ...          6.92                 0.37\n",
              "Ord_5388   Prod_6  SHP_7524  ...          5.35                 0.40\n",
              "Ord_5348  Prod_15  SHP_7469  ...         30.00                 0.62\n",
              "Ord_5459   Prod_6  SHP_7628  ...          4.86                 0.38\n",
              "\n",
              "[8399 rows x 9 columns]"
            ]
          },
          "metadata": {
            "tags": []
          },
          "execution_count": 102
        }
      ]
    },
    {
      "cell_type": "code",
      "metadata": {
        "colab": {
          "base_uri": "https://localhost:8080/",
          "height": 457
        },
        "id": "0pygd17Zjn0o",
        "outputId": "4462c314-c046-44d1-a1d7-0017b634ecd7"
      },
      "source": [
        "# Setting the \"ship_id\" as index\r\n",
        "df.set_index(\"Ship_id\")\r\n",
        "\r\n",
        "#.head()"
      ],
      "execution_count": 105,
      "outputs": [
        {
          "output_type": "execute_result",
          "data": {
            "text/html": [
              "<div>\n",
              "<style scoped>\n",
              "    .dataframe tbody tr th:only-of-type {\n",
              "        vertical-align: middle;\n",
              "    }\n",
              "\n",
              "    .dataframe tbody tr th {\n",
              "        vertical-align: top;\n",
              "    }\n",
              "\n",
              "    .dataframe thead th {\n",
              "        text-align: right;\n",
              "    }\n",
              "</style>\n",
              "<table border=\"1\" class=\"dataframe\">\n",
              "  <thead>\n",
              "    <tr style=\"text-align: right;\">\n",
              "      <th></th>\n",
              "      <th>Prod_id</th>\n",
              "      <th>Cust_id</th>\n",
              "      <th>Sales</th>\n",
              "      <th>Discount</th>\n",
              "      <th>Order_Quantity</th>\n",
              "      <th>Profit</th>\n",
              "      <th>Shipping_Cost</th>\n",
              "      <th>Product_Base_Margin</th>\n",
              "    </tr>\n",
              "    <tr>\n",
              "      <th>Ship_id</th>\n",
              "      <th></th>\n",
              "      <th></th>\n",
              "      <th></th>\n",
              "      <th></th>\n",
              "      <th></th>\n",
              "      <th></th>\n",
              "      <th></th>\n",
              "      <th></th>\n",
              "    </tr>\n",
              "  </thead>\n",
              "  <tbody>\n",
              "    <tr>\n",
              "      <th>SHP_7609</th>\n",
              "      <td>Prod_16</td>\n",
              "      <td>Cust_1818</td>\n",
              "      <td>136.8100</td>\n",
              "      <td>0.01</td>\n",
              "      <td>23</td>\n",
              "      <td>-30.51</td>\n",
              "      <td>3.60</td>\n",
              "      <td>0.56</td>\n",
              "    </tr>\n",
              "    <tr>\n",
              "      <th>SHP_7549</th>\n",
              "      <td>Prod_13</td>\n",
              "      <td>Cust_1818</td>\n",
              "      <td>42.2700</td>\n",
              "      <td>0.01</td>\n",
              "      <td>13</td>\n",
              "      <td>4.56</td>\n",
              "      <td>0.93</td>\n",
              "      <td>0.54</td>\n",
              "    </tr>\n",
              "    <tr>\n",
              "      <th>SHP_7610</th>\n",
              "      <td>Prod_4</td>\n",
              "      <td>Cust_1818</td>\n",
              "      <td>4701.6900</td>\n",
              "      <td>0.00</td>\n",
              "      <td>26</td>\n",
              "      <td>1148.90</td>\n",
              "      <td>2.50</td>\n",
              "      <td>0.59</td>\n",
              "    </tr>\n",
              "    <tr>\n",
              "      <th>SHP_7625</th>\n",
              "      <td>Prod_6</td>\n",
              "      <td>Cust_1818</td>\n",
              "      <td>2337.8900</td>\n",
              "      <td>0.09</td>\n",
              "      <td>43</td>\n",
              "      <td>729.34</td>\n",
              "      <td>14.30</td>\n",
              "      <td>0.37</td>\n",
              "    </tr>\n",
              "    <tr>\n",
              "      <th>SHP_7664</th>\n",
              "      <td>Prod_17</td>\n",
              "      <td>Cust_1818</td>\n",
              "      <td>4233.1500</td>\n",
              "      <td>0.08</td>\n",
              "      <td>35</td>\n",
              "      <td>1219.87</td>\n",
              "      <td>26.30</td>\n",
              "      <td>0.38</td>\n",
              "    </tr>\n",
              "    <tr>\n",
              "      <th>...</th>\n",
              "      <td>...</td>\n",
              "      <td>...</td>\n",
              "      <td>...</td>\n",
              "      <td>...</td>\n",
              "      <td>...</td>\n",
              "      <td>...</td>\n",
              "      <td>...</td>\n",
              "      <td>...</td>\n",
              "    </tr>\n",
              "    <tr>\n",
              "      <th>SHP_7479</th>\n",
              "      <td>Prod_4</td>\n",
              "      <td>Cust_1798</td>\n",
              "      <td>2841.4395</td>\n",
              "      <td>0.08</td>\n",
              "      <td>28</td>\n",
              "      <td>374.63</td>\n",
              "      <td>7.69</td>\n",
              "      <td>0.59</td>\n",
              "    </tr>\n",
              "    <tr>\n",
              "      <th>SHP_7555</th>\n",
              "      <td>Prod_6</td>\n",
              "      <td>Cust_1798</td>\n",
              "      <td>127.1600</td>\n",
              "      <td>0.10</td>\n",
              "      <td>20</td>\n",
              "      <td>-74.03</td>\n",
              "      <td>6.92</td>\n",
              "      <td>0.37</td>\n",
              "    </tr>\n",
              "    <tr>\n",
              "      <th>SHP_7524</th>\n",
              "      <td>Prod_6</td>\n",
              "      <td>Cust_1798</td>\n",
              "      <td>243.0500</td>\n",
              "      <td>0.02</td>\n",
              "      <td>39</td>\n",
              "      <td>-70.85</td>\n",
              "      <td>5.35</td>\n",
              "      <td>0.40</td>\n",
              "    </tr>\n",
              "    <tr>\n",
              "      <th>SHP_7469</th>\n",
              "      <td>Prod_15</td>\n",
              "      <td>Cust_1798</td>\n",
              "      <td>3872.8700</td>\n",
              "      <td>0.03</td>\n",
              "      <td>23</td>\n",
              "      <td>565.34</td>\n",
              "      <td>30.00</td>\n",
              "      <td>0.62</td>\n",
              "    </tr>\n",
              "    <tr>\n",
              "      <th>SHP_7628</th>\n",
              "      <td>Prod_6</td>\n",
              "      <td>Cust_1798</td>\n",
              "      <td>603.6900</td>\n",
              "      <td>0.00</td>\n",
              "      <td>47</td>\n",
              "      <td>131.39</td>\n",
              "      <td>4.86</td>\n",
              "      <td>0.38</td>\n",
              "    </tr>\n",
              "  </tbody>\n",
              "</table>\n",
              "<p>8399 rows × 8 columns</p>\n",
              "</div>"
            ],
            "text/plain": [
              "          Prod_id    Cust_id  ...  Shipping_Cost  Product_Base_Margin\n",
              "Ship_id                       ...                                    \n",
              "SHP_7609  Prod_16  Cust_1818  ...           3.60                 0.56\n",
              "SHP_7549  Prod_13  Cust_1818  ...           0.93                 0.54\n",
              "SHP_7610   Prod_4  Cust_1818  ...           2.50                 0.59\n",
              "SHP_7625   Prod_6  Cust_1818  ...          14.30                 0.37\n",
              "SHP_7664  Prod_17  Cust_1818  ...          26.30                 0.38\n",
              "...           ...        ...  ...            ...                  ...\n",
              "SHP_7479   Prod_4  Cust_1798  ...           7.69                 0.59\n",
              "SHP_7555   Prod_6  Cust_1798  ...           6.92                 0.37\n",
              "SHP_7524   Prod_6  Cust_1798  ...           5.35                 0.40\n",
              "SHP_7469  Prod_15  Cust_1798  ...          30.00                 0.62\n",
              "SHP_7628   Prod_6  Cust_1798  ...           4.86                 0.38\n",
              "\n",
              "[8399 rows x 8 columns]"
            ]
          },
          "metadata": {
            "tags": []
          },
          "execution_count": 105
        }
      ]
    },
    {
      "cell_type": "code",
      "metadata": {
        "colab": {
          "base_uri": "https://localhost:8080/",
          "height": 667
        },
        "id": "UBfoIo3Dd6LW",
        "outputId": "dc5ae2d4-d7ad-4e13-b6fe-bd2e7a9bbdf1"
      },
      "source": [
        "df.loc[\"SHP_7524\", [\"Order_Quantity\",\t\"Profit\"]]"
      ],
      "execution_count": 115,
      "outputs": [
        {
          "output_type": "error",
          "ename": "KeyError",
          "evalue": "ignored",
          "traceback": [
            "\u001b[0;31m---------------------------------------------------------------------------\u001b[0m",
            "\u001b[0;31mKeyError\u001b[0m                                  Traceback (most recent call last)",
            "\u001b[0;32m/usr/local/lib/python3.6/dist-packages/pandas/core/indexes/base.py\u001b[0m in \u001b[0;36mget_loc\u001b[0;34m(self, key, method, tolerance)\u001b[0m\n\u001b[1;32m   2897\u001b[0m             \u001b[0;32mtry\u001b[0m\u001b[0;34m:\u001b[0m\u001b[0;34m\u001b[0m\u001b[0;34m\u001b[0m\u001b[0m\n\u001b[0;32m-> 2898\u001b[0;31m                 \u001b[0;32mreturn\u001b[0m \u001b[0mself\u001b[0m\u001b[0;34m.\u001b[0m\u001b[0m_engine\u001b[0m\u001b[0;34m.\u001b[0m\u001b[0mget_loc\u001b[0m\u001b[0;34m(\u001b[0m\u001b[0mcasted_key\u001b[0m\u001b[0;34m)\u001b[0m\u001b[0;34m\u001b[0m\u001b[0;34m\u001b[0m\u001b[0m\n\u001b[0m\u001b[1;32m   2899\u001b[0m             \u001b[0;32mexcept\u001b[0m \u001b[0mKeyError\u001b[0m \u001b[0;32mas\u001b[0m \u001b[0merr\u001b[0m\u001b[0;34m:\u001b[0m\u001b[0;34m\u001b[0m\u001b[0;34m\u001b[0m\u001b[0m\n",
            "\u001b[0;32mpandas/_libs/index.pyx\u001b[0m in \u001b[0;36mpandas._libs.index.IndexEngine.get_loc\u001b[0;34m()\u001b[0m\n",
            "\u001b[0;32mpandas/_libs/index.pyx\u001b[0m in \u001b[0;36mpandas._libs.index.IndexEngine.get_loc\u001b[0;34m()\u001b[0m\n",
            "\u001b[0;32mpandas/_libs/index.pyx\u001b[0m in \u001b[0;36mpandas._libs.index.IndexEngine._get_loc_duplicates\u001b[0;34m()\u001b[0m\n",
            "\u001b[0;32mpandas/_libs/index.pyx\u001b[0m in \u001b[0;36mpandas._libs.index.IndexEngine._maybe_get_bool_indexer\u001b[0;34m()\u001b[0m\n",
            "\u001b[0;32mpandas/_libs/index.pyx\u001b[0m in \u001b[0;36mpandas._libs.index.IndexEngine._unpack_bool_indexer\u001b[0;34m()\u001b[0m\n",
            "\u001b[0;31mKeyError\u001b[0m: 'SHP_7524'",
            "\nThe above exception was the direct cause of the following exception:\n",
            "\u001b[0;31mKeyError\u001b[0m                                  Traceback (most recent call last)",
            "\u001b[0;32m<ipython-input-115-7b7f3a58be92>\u001b[0m in \u001b[0;36m<module>\u001b[0;34m()\u001b[0m\n\u001b[0;32m----> 1\u001b[0;31m \u001b[0mdf\u001b[0m\u001b[0;34m.\u001b[0m\u001b[0mloc\u001b[0m\u001b[0;34m[\u001b[0m\u001b[0;34m\"SHP_7524\"\u001b[0m\u001b[0;34m,\u001b[0m \u001b[0;34m[\u001b[0m\u001b[0;34m\"Order_Quantity\"\u001b[0m\u001b[0;34m,\u001b[0m   \u001b[0;34m\"Profit\"\u001b[0m\u001b[0;34m]\u001b[0m\u001b[0;34m]\u001b[0m\u001b[0;34m\u001b[0m\u001b[0;34m\u001b[0m\u001b[0m\n\u001b[0m",
            "\u001b[0;32m/usr/local/lib/python3.6/dist-packages/pandas/core/indexing.py\u001b[0m in \u001b[0;36m__getitem__\u001b[0;34m(self, key)\u001b[0m\n\u001b[1;32m    871\u001b[0m                     \u001b[0;31m# AttributeError for IntervalTree get_value\u001b[0m\u001b[0;34m\u001b[0m\u001b[0;34m\u001b[0m\u001b[0;34m\u001b[0m\u001b[0m\n\u001b[1;32m    872\u001b[0m                     \u001b[0;32mpass\u001b[0m\u001b[0;34m\u001b[0m\u001b[0;34m\u001b[0m\u001b[0m\n\u001b[0;32m--> 873\u001b[0;31m             \u001b[0;32mreturn\u001b[0m \u001b[0mself\u001b[0m\u001b[0;34m.\u001b[0m\u001b[0m_getitem_tuple\u001b[0m\u001b[0;34m(\u001b[0m\u001b[0mkey\u001b[0m\u001b[0;34m)\u001b[0m\u001b[0;34m\u001b[0m\u001b[0;34m\u001b[0m\u001b[0m\n\u001b[0m\u001b[1;32m    874\u001b[0m         \u001b[0;32melse\u001b[0m\u001b[0;34m:\u001b[0m\u001b[0;34m\u001b[0m\u001b[0;34m\u001b[0m\u001b[0m\n\u001b[1;32m    875\u001b[0m             \u001b[0;31m# we by definition only have the 0th axis\u001b[0m\u001b[0;34m\u001b[0m\u001b[0;34m\u001b[0m\u001b[0;34m\u001b[0m\u001b[0m\n",
            "\u001b[0;32m/usr/local/lib/python3.6/dist-packages/pandas/core/indexing.py\u001b[0m in \u001b[0;36m_getitem_tuple\u001b[0;34m(self, tup)\u001b[0m\n\u001b[1;32m   1042\u001b[0m     \u001b[0;32mdef\u001b[0m \u001b[0m_getitem_tuple\u001b[0m\u001b[0;34m(\u001b[0m\u001b[0mself\u001b[0m\u001b[0;34m,\u001b[0m \u001b[0mtup\u001b[0m\u001b[0;34m:\u001b[0m \u001b[0mTuple\u001b[0m\u001b[0;34m)\u001b[0m\u001b[0;34m:\u001b[0m\u001b[0;34m\u001b[0m\u001b[0;34m\u001b[0m\u001b[0m\n\u001b[1;32m   1043\u001b[0m         \u001b[0;32mtry\u001b[0m\u001b[0;34m:\u001b[0m\u001b[0;34m\u001b[0m\u001b[0;34m\u001b[0m\u001b[0m\n\u001b[0;32m-> 1044\u001b[0;31m             \u001b[0;32mreturn\u001b[0m \u001b[0mself\u001b[0m\u001b[0;34m.\u001b[0m\u001b[0m_getitem_lowerdim\u001b[0m\u001b[0;34m(\u001b[0m\u001b[0mtup\u001b[0m\u001b[0;34m)\u001b[0m\u001b[0;34m\u001b[0m\u001b[0;34m\u001b[0m\u001b[0m\n\u001b[0m\u001b[1;32m   1045\u001b[0m         \u001b[0;32mexcept\u001b[0m \u001b[0mIndexingError\u001b[0m\u001b[0;34m:\u001b[0m\u001b[0;34m\u001b[0m\u001b[0;34m\u001b[0m\u001b[0m\n\u001b[1;32m   1046\u001b[0m             \u001b[0;32mpass\u001b[0m\u001b[0;34m\u001b[0m\u001b[0;34m\u001b[0m\u001b[0m\n",
            "\u001b[0;32m/usr/local/lib/python3.6/dist-packages/pandas/core/indexing.py\u001b[0m in \u001b[0;36m_getitem_lowerdim\u001b[0;34m(self, tup)\u001b[0m\n\u001b[1;32m    784\u001b[0m                 \u001b[0;31m# We don't need to check for tuples here because those are\u001b[0m\u001b[0;34m\u001b[0m\u001b[0;34m\u001b[0m\u001b[0;34m\u001b[0m\u001b[0m\n\u001b[1;32m    785\u001b[0m                 \u001b[0;31m#  caught by the _is_nested_tuple_indexer check above.\u001b[0m\u001b[0;34m\u001b[0m\u001b[0;34m\u001b[0m\u001b[0;34m\u001b[0m\u001b[0m\n\u001b[0;32m--> 786\u001b[0;31m                 \u001b[0msection\u001b[0m \u001b[0;34m=\u001b[0m \u001b[0mself\u001b[0m\u001b[0;34m.\u001b[0m\u001b[0m_getitem_axis\u001b[0m\u001b[0;34m(\u001b[0m\u001b[0mkey\u001b[0m\u001b[0;34m,\u001b[0m \u001b[0maxis\u001b[0m\u001b[0;34m=\u001b[0m\u001b[0mi\u001b[0m\u001b[0;34m)\u001b[0m\u001b[0;34m\u001b[0m\u001b[0;34m\u001b[0m\u001b[0m\n\u001b[0m\u001b[1;32m    787\u001b[0m \u001b[0;34m\u001b[0m\u001b[0m\n\u001b[1;32m    788\u001b[0m                 \u001b[0;31m# We should never have a scalar section here, because\u001b[0m\u001b[0;34m\u001b[0m\u001b[0;34m\u001b[0m\u001b[0;34m\u001b[0m\u001b[0m\n",
            "\u001b[0;32m/usr/local/lib/python3.6/dist-packages/pandas/core/indexing.py\u001b[0m in \u001b[0;36m_getitem_axis\u001b[0;34m(self, key, axis)\u001b[0m\n\u001b[1;32m   1108\u001b[0m         \u001b[0;31m# fall thru to straight lookup\u001b[0m\u001b[0;34m\u001b[0m\u001b[0;34m\u001b[0m\u001b[0;34m\u001b[0m\u001b[0m\n\u001b[1;32m   1109\u001b[0m         \u001b[0mself\u001b[0m\u001b[0;34m.\u001b[0m\u001b[0m_validate_key\u001b[0m\u001b[0;34m(\u001b[0m\u001b[0mkey\u001b[0m\u001b[0;34m,\u001b[0m \u001b[0maxis\u001b[0m\u001b[0;34m)\u001b[0m\u001b[0;34m\u001b[0m\u001b[0;34m\u001b[0m\u001b[0m\n\u001b[0;32m-> 1110\u001b[0;31m         \u001b[0;32mreturn\u001b[0m \u001b[0mself\u001b[0m\u001b[0;34m.\u001b[0m\u001b[0m_get_label\u001b[0m\u001b[0;34m(\u001b[0m\u001b[0mkey\u001b[0m\u001b[0;34m,\u001b[0m \u001b[0maxis\u001b[0m\u001b[0;34m=\u001b[0m\u001b[0maxis\u001b[0m\u001b[0;34m)\u001b[0m\u001b[0;34m\u001b[0m\u001b[0;34m\u001b[0m\u001b[0m\n\u001b[0m\u001b[1;32m   1111\u001b[0m \u001b[0;34m\u001b[0m\u001b[0m\n\u001b[1;32m   1112\u001b[0m     \u001b[0;32mdef\u001b[0m \u001b[0m_get_slice_axis\u001b[0m\u001b[0;34m(\u001b[0m\u001b[0mself\u001b[0m\u001b[0;34m,\u001b[0m \u001b[0mslice_obj\u001b[0m\u001b[0;34m:\u001b[0m \u001b[0mslice\u001b[0m\u001b[0;34m,\u001b[0m \u001b[0maxis\u001b[0m\u001b[0;34m:\u001b[0m \u001b[0mint\u001b[0m\u001b[0;34m)\u001b[0m\u001b[0;34m:\u001b[0m\u001b[0;34m\u001b[0m\u001b[0;34m\u001b[0m\u001b[0m\n",
            "\u001b[0;32m/usr/local/lib/python3.6/dist-packages/pandas/core/indexing.py\u001b[0m in \u001b[0;36m_get_label\u001b[0;34m(self, label, axis)\u001b[0m\n\u001b[1;32m   1057\u001b[0m     \u001b[0;32mdef\u001b[0m \u001b[0m_get_label\u001b[0m\u001b[0;34m(\u001b[0m\u001b[0mself\u001b[0m\u001b[0;34m,\u001b[0m \u001b[0mlabel\u001b[0m\u001b[0;34m,\u001b[0m \u001b[0maxis\u001b[0m\u001b[0;34m:\u001b[0m \u001b[0mint\u001b[0m\u001b[0;34m)\u001b[0m\u001b[0;34m:\u001b[0m\u001b[0;34m\u001b[0m\u001b[0;34m\u001b[0m\u001b[0m\n\u001b[1;32m   1058\u001b[0m         \u001b[0;31m# GH#5667 this will fail if the label is not present in the axis.\u001b[0m\u001b[0;34m\u001b[0m\u001b[0;34m\u001b[0m\u001b[0;34m\u001b[0m\u001b[0m\n\u001b[0;32m-> 1059\u001b[0;31m         \u001b[0;32mreturn\u001b[0m \u001b[0mself\u001b[0m\u001b[0;34m.\u001b[0m\u001b[0mobj\u001b[0m\u001b[0;34m.\u001b[0m\u001b[0mxs\u001b[0m\u001b[0;34m(\u001b[0m\u001b[0mlabel\u001b[0m\u001b[0;34m,\u001b[0m \u001b[0maxis\u001b[0m\u001b[0;34m=\u001b[0m\u001b[0maxis\u001b[0m\u001b[0;34m)\u001b[0m\u001b[0;34m\u001b[0m\u001b[0;34m\u001b[0m\u001b[0m\n\u001b[0m\u001b[1;32m   1060\u001b[0m \u001b[0;34m\u001b[0m\u001b[0m\n\u001b[1;32m   1061\u001b[0m     \u001b[0;32mdef\u001b[0m \u001b[0m_handle_lowerdim_multi_index_axis0\u001b[0m\u001b[0;34m(\u001b[0m\u001b[0mself\u001b[0m\u001b[0;34m,\u001b[0m \u001b[0mtup\u001b[0m\u001b[0;34m:\u001b[0m \u001b[0mTuple\u001b[0m\u001b[0;34m)\u001b[0m\u001b[0;34m:\u001b[0m\u001b[0;34m\u001b[0m\u001b[0;34m\u001b[0m\u001b[0m\n",
            "\u001b[0;32m/usr/local/lib/python3.6/dist-packages/pandas/core/generic.py\u001b[0m in \u001b[0;36mxs\u001b[0;34m(self, key, axis, level, drop_level)\u001b[0m\n\u001b[1;32m   3491\u001b[0m             \u001b[0mloc\u001b[0m\u001b[0;34m,\u001b[0m \u001b[0mnew_index\u001b[0m \u001b[0;34m=\u001b[0m \u001b[0mself\u001b[0m\u001b[0;34m.\u001b[0m\u001b[0mindex\u001b[0m\u001b[0;34m.\u001b[0m\u001b[0mget_loc_level\u001b[0m\u001b[0;34m(\u001b[0m\u001b[0mkey\u001b[0m\u001b[0;34m,\u001b[0m \u001b[0mdrop_level\u001b[0m\u001b[0;34m=\u001b[0m\u001b[0mdrop_level\u001b[0m\u001b[0;34m)\u001b[0m\u001b[0;34m\u001b[0m\u001b[0;34m\u001b[0m\u001b[0m\n\u001b[1;32m   3492\u001b[0m         \u001b[0;32melse\u001b[0m\u001b[0;34m:\u001b[0m\u001b[0;34m\u001b[0m\u001b[0;34m\u001b[0m\u001b[0m\n\u001b[0;32m-> 3493\u001b[0;31m             \u001b[0mloc\u001b[0m \u001b[0;34m=\u001b[0m \u001b[0mself\u001b[0m\u001b[0;34m.\u001b[0m\u001b[0mindex\u001b[0m\u001b[0;34m.\u001b[0m\u001b[0mget_loc\u001b[0m\u001b[0;34m(\u001b[0m\u001b[0mkey\u001b[0m\u001b[0;34m)\u001b[0m\u001b[0;34m\u001b[0m\u001b[0;34m\u001b[0m\u001b[0m\n\u001b[0m\u001b[1;32m   3494\u001b[0m \u001b[0;34m\u001b[0m\u001b[0m\n\u001b[1;32m   3495\u001b[0m             \u001b[0;32mif\u001b[0m \u001b[0misinstance\u001b[0m\u001b[0;34m(\u001b[0m\u001b[0mloc\u001b[0m\u001b[0;34m,\u001b[0m \u001b[0mnp\u001b[0m\u001b[0;34m.\u001b[0m\u001b[0mndarray\u001b[0m\u001b[0;34m)\u001b[0m\u001b[0;34m:\u001b[0m\u001b[0;34m\u001b[0m\u001b[0;34m\u001b[0m\u001b[0m\n",
            "\u001b[0;32m/usr/local/lib/python3.6/dist-packages/pandas/core/indexes/base.py\u001b[0m in \u001b[0;36mget_loc\u001b[0;34m(self, key, method, tolerance)\u001b[0m\n\u001b[1;32m   2898\u001b[0m                 \u001b[0;32mreturn\u001b[0m \u001b[0mself\u001b[0m\u001b[0;34m.\u001b[0m\u001b[0m_engine\u001b[0m\u001b[0;34m.\u001b[0m\u001b[0mget_loc\u001b[0m\u001b[0;34m(\u001b[0m\u001b[0mcasted_key\u001b[0m\u001b[0;34m)\u001b[0m\u001b[0;34m\u001b[0m\u001b[0;34m\u001b[0m\u001b[0m\n\u001b[1;32m   2899\u001b[0m             \u001b[0;32mexcept\u001b[0m \u001b[0mKeyError\u001b[0m \u001b[0;32mas\u001b[0m \u001b[0merr\u001b[0m\u001b[0;34m:\u001b[0m\u001b[0;34m\u001b[0m\u001b[0;34m\u001b[0m\u001b[0m\n\u001b[0;32m-> 2900\u001b[0;31m                 \u001b[0;32mraise\u001b[0m \u001b[0mKeyError\u001b[0m\u001b[0;34m(\u001b[0m\u001b[0mkey\u001b[0m\u001b[0;34m)\u001b[0m \u001b[0;32mfrom\u001b[0m \u001b[0merr\u001b[0m\u001b[0;34m\u001b[0m\u001b[0;34m\u001b[0m\u001b[0m\n\u001b[0m\u001b[1;32m   2901\u001b[0m \u001b[0;34m\u001b[0m\u001b[0m\n\u001b[1;32m   2902\u001b[0m         \u001b[0;32mif\u001b[0m \u001b[0mtolerance\u001b[0m \u001b[0;32mis\u001b[0m \u001b[0;32mnot\u001b[0m \u001b[0;32mNone\u001b[0m\u001b[0;34m:\u001b[0m\u001b[0;34m\u001b[0m\u001b[0;34m\u001b[0m\u001b[0m\n",
            "\u001b[0;31mKeyError\u001b[0m: 'SHP_7524'"
          ]
        }
      ]
    }
  ]
}